{
 "cells": [
  {
   "cell_type": "markdown",
   "metadata": {},
   "source": [
    "# Imports and Helper Functions"
   ]
  },
  {
   "cell_type": "code",
   "execution_count": 5,
   "metadata": {},
   "outputs": [],
   "source": [
    "import numpy as np\n",
    "import matplotlib.pyplot as plt\n",
    "from mpl_toolkits.mplot3d import Axes3D\n",
    "import csv"
   ]
  },
  {
   "cell_type": "markdown",
   "metadata": {},
   "source": [
    "# Data Generation and Classification"
   ]
  },
  {
   "cell_type": "code",
   "execution_count": 1,
   "metadata": {},
   "outputs": [],
   "source": [
    "# the input is the size of the data to be generated\n",
    "# the output is an array of arrays which contains\n",
    "# the data in form [bias, x, y, z, classification] and\n",
    "# the parameters for the spheroid\n",
    "def gen3Ddata(number):\n",
    "    data = []\n",
    "    \n",
    "    # create data with no classifcation\n",
    "    for i in range(number):\n",
    "        data.append([1, np.random.uniform(-1.5, 1.5), \\\n",
    "                     np.random.uniform(-1.5, 1.5), \\\n",
    "                     np.random.uniform(-1.5, 1.5), 0])\n",
    "    \n",
    "    # gets a, b, c, and r of our figure\n",
    "    params = [np.random.uniform(0,10) for i in range(4)]\n",
    "    \n",
    "    for j in data:\n",
    "        # classify as 1 if inside the spheroid\n",
    "        # ax^2 + by^2 + cz^2 = r^2\n",
    "        if np.dot([j[1]**2, j[2]**2, j[3]**2], params[0:3]) < 1:\n",
    "            j[4] = 1\n",
    "        else:\n",
    "            j[4] = -1\n",
    "    return data, params"
   ]
  },
  {
   "cell_type": "code",
   "execution_count": 2,
   "metadata": {},
   "outputs": [],
   "source": [
    "# input is params of sphere equations [a, b, c, r]\n",
    "# output is a bunch of points to visualize the graph \n",
    "# in form [x, y, z]\n",
    "def outputSphere(params):\n",
    "    # create points on the unit circle\n",
    "    vec = np.random.randn(3, 100000)\n",
    "    vec /= np.linalg.norm(vec, axis=0)\n",
    "    \n",
    "    # apply coefficients\n",
    "    for i in range(3):\n",
    "        vec[i] *= np.sqrt(params[i])\n",
    "        \n",
    "    return vec"
   ]
  },
  {
   "cell_type": "markdown",
   "metadata": {},
   "source": [
    "# Output Data"
   ]
  },
  {
   "cell_type": "code",
   "execution_count": 3,
   "metadata": {},
   "outputs": [],
   "source": [
    "# outputs the data and sphere to filename\n",
    "def outputPoints(data, sphere, filename):\n",
    "    # open the filename for writing\n",
    "    with open(filename, mode = 'w', newline='') as f:\n",
    "        data_writer = csv.writer(f)\n",
    "        data_writer.writerow(['x_coords', 'y_coords', 'z_coords', 'type'])\n",
    "        # X Y Z Classification (-1, 1, or 0 for plane)\n",
    "        # add data\n",
    "        for line in data:\n",
    "            data_writer.writerow([line[1], line[2], line[3], line[4]])\n",
    "        # add plane data\n",
    "        x, y, z = sphere\n",
    "        for index in range(len(x)):\n",
    "            data_writer.writerow([x[index], y[index], z[index], 0])"
   ]
  },
  {
   "cell_type": "code",
   "execution_count": 6,
   "metadata": {},
   "outputs": [],
   "source": [
    "data, params = gen3Ddata(1000)\n",
    "outputPoints(data, outputSphere(params), \"NonlinearData.csv\")"
   ]
  }
 ],
 "metadata": {
  "kernelspec": {
   "display_name": "Python 3",
   "language": "python",
   "name": "python3"
  },
  "language_info": {
   "codemirror_mode": {
    "name": "ipython",
    "version": 3
   },
   "file_extension": ".py",
   "mimetype": "text/x-python",
   "name": "python",
   "nbconvert_exporter": "python",
   "pygments_lexer": "ipython3",
   "version": "3.7.3"
  }
 },
 "nbformat": 4,
 "nbformat_minor": 2
}
